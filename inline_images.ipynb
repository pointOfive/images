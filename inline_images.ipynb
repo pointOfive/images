{
 "cells": [
  {
   "cell_type": "markdown",
   "id": "6a684e17",
   "metadata": {},
   "source": [
    "# Here as a link to a local image\n",
    "\n",
    "![https://www.explainxkcd.com/wiki/index.php/2110:_Error_Bars](error_bars.png)\n",
    "\n"
   ]
  },
  {
   "cell_type": "markdown",
   "id": "d86a7dcf",
   "metadata": {},
   "source": [
    "# Here as a link to a web address\n",
    "![](https://www.explainxkcd.com/wiki/images/9/9c/error_bars.png)"
   ]
  }
 ],
 "metadata": {
  "kernelspec": {
   "display_name": "Python 3 (ipykernel)",
   "language": "python",
   "name": "python3"
  },
  "language_info": {
   "codemirror_mode": {
    "name": "ipython",
    "version": 3
   },
   "file_extension": ".py",
   "mimetype": "text/x-python",
   "name": "python",
   "nbconvert_exporter": "python",
   "pygments_lexer": "ipython3",
   "version": "3.11.4"
  }
 },
 "nbformat": 4,
 "nbformat_minor": 5
}
